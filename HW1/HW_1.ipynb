{
 "cells": [
  {
   "cell_type": "markdown",
   "metadata": {},
   "source": [
    "# CSDS 133: Introduction to Data Science and Engineering for Majors\n",
    "## Spring 2022\n",
    "## Homework - 1\n",
    "## Due: 11.59.59pm Friday February 4, 2022\n",
    "\n",
    "#### There are totally 20 questions that are followed by a blank cell. Please fill in the code in the blank cell, and remember to display the result. You are allowed to use class notebooks. Submit your notebook.\n",
    "\n",
    "Because Jupyter Notebook will save the result of all codes that were executed before, if you are not sure whether your code is right and it may jeopardize the dataset ( for example: deleting some records), there are several ways to reset your data: \n",
    "* Rerun the cell that creates the data\n",
    "* Delete your current cell or comment it, and  select \"restart & run all\" in the Kernel menu.\n",
    "* Create a temporary variable that exactly copies the original dataframe, and test your codes on the temporary dataframe first.\n",
    "\n",
    "#### There are sample input output for some of the questions. Your code will be tested with different values. Test your code with different test cases.\n",
    "\n"
   ]
  },
  {
   "cell_type": "markdown",
   "metadata": {},
   "source": [
    "# <mark> Run the code below this first, since all of my imports are here </mark>\n"
   ]
  },
  {
   "cell_type": "code",
   "execution_count": 1,
   "metadata": {},
   "outputs": [],
   "source": [
    "#Import stuff here\n",
    "import numpy as np\n",
    "import pandas as pd\n",
    "import matplotlib.pyplot as plt"
   ]
  },
  {
   "cell_type": "markdown",
   "metadata": {},
   "source": [
    "#### 1. Create a 3×3 numpy array of all True’s"
   ]
  },
  {
   "cell_type": "code",
   "execution_count": 2,
   "metadata": {},
   "outputs": [
    {
     "name": "stdout",
     "output_type": "stream",
     "text": [
      "[[ True  True  True]\n",
      " [ True  True  True]\n",
      " [ True  True  True]]\n"
     ]
    }
   ],
   "source": [
    "# code for q1\n",
    "threeXthreeTrue = np.ones((3,3), dtype = 'bool')\n",
    "print(threeXthreeTrue)\n"
   ]
  },
  {
   "cell_type": "markdown",
   "metadata": {},
   "source": [
    "#### 2. Given an array, replace all of the even numbers with -1. (you can use numpy functions)\n",
    "\n",
    "sample input: [3, 4, 5, 1, 8, 0]\n",
    "\n",
    "sample output: [3, -1, 5, -1, -1]"
   ]
  },
  {
   "cell_type": "code",
   "execution_count": 4,
   "metadata": {},
   "outputs": [
    {
     "name": "stdout",
     "output_type": "stream",
     "text": [
      "[3, -1, 5, 1, -1, -1]\n"
     ]
    }
   ],
   "source": [
    "def replaceEven(arr):\n",
    "    for x in range(len(arr)):\n",
    "        if arr[x]%2==0:\n",
    "            arr[x] = -1\n",
    "    return arr\n",
    "\n",
    "input = [3,4,5,1,8,0]\n",
    "print(replaceEven(input))"
   ]
  },
  {
   "cell_type": "markdown",
   "metadata": {},
   "source": [
    "#### 3. Given two arrays, remove from one array those items that exist in another? (you can use numpy functions)\n",
    "\n",
    "array1: [1,2,3,4,5]  \n",
    "array2: [5,6,7,8,9,11,15]\n",
    "\n",
    "output: [1,2,3,4]"
   ]
  },
  {
   "cell_type": "code",
   "execution_count": 5,
   "metadata": {},
   "outputs": [
    {
     "name": "stdout",
     "output_type": "stream",
     "text": [
      "[1, 2, 3, 4]\n"
     ]
    }
   ],
   "source": [
    "def removeIfInArr2(arr1, arr2):\n",
    "    for x in arr1:\n",
    "        for y in arr2:\n",
    "            if(x==y):\n",
    "                arr1.remove(x)\n",
    "    print(arr1)\n",
    "    \n",
    "removeIfInArr2([1,2,3,4,5],[5,6,7,8,9,11,15])"
   ]
  },
  {
   "cell_type": "markdown",
   "metadata": {},
   "source": [
    "#### 4. Find the common items between two given python numpy arrays? (you can use numpy functions)\n",
    "\n",
    "array1: [1,2,3,2,3,4,3,4,5,6]  \n",
    "array2: [7,2,10,2,7,4,9,4,9,8]\n",
    "\n",
    "result: [2, 4]"
   ]
  },
  {
   "cell_type": "code",
   "execution_count": 21,
   "metadata": {},
   "outputs": [
    {
     "name": "stdout",
     "output_type": "stream",
     "text": [
      "[2, 4]\n"
     ]
    }
   ],
   "source": [
    "# code for q4\n",
    "def commonItems(arr1, arr2):\n",
    "    returnMe = []\n",
    "    for x in arr1:\n",
    "        for y in arr2:\n",
    "            if(x==y and not(x in returnMe)):\n",
    "                returnMe.append(x)\n",
    "    return(returnMe)\n",
    "\n",
    "print(commonItems([1,2,3,2,3,4,3,4,5,6],[7,2,10,2,7,4,9,4,9,8]))"
   ]
  },
  {
   "cell_type": "markdown",
   "metadata": {},
   "source": [
    "#### 5. Write a function which squares a number and then use it to write a function which takes three integers and returns the sum of their squares."
   ]
  },
  {
   "cell_type": "code",
   "execution_count": 3,
   "metadata": {},
   "outputs": [
    {
     "name": "stdout",
     "output_type": "stream",
     "text": [
      "14\n"
     ]
    }
   ],
   "source": [
    "# you will be writing two functions. \n",
    "# 1. function takes one input and return its square\n",
    "def square(input):\n",
    "    return(input**2)\n",
    "# 2. function takes three input values returns the sum of their squares (this function should call the first one) \n",
    "def squareThree(a,b,c):\n",
    "    return(square(a)+square(b)+square(c))\n",
    "# write a text case where you call your function\n",
    "# your_function(2,1,3) should return 14\n",
    "# print the result\n",
    "print(squareThree(2,1,3))"
   ]
  },
  {
   "cell_type": "markdown",
   "metadata": {},
   "source": [
    "#### 6. Write a function which computes the factorial of an integer. (you can use any available function)\n",
    "\n",
    "sample input: 4  \n",
    "sample output: 24 (4x3x2x1)"
   ]
  },
  {
   "cell_type": "code",
   "execution_count": 1,
   "metadata": {},
   "outputs": [
    {
     "name": "stdout",
     "output_type": "stream",
     "text": [
      "24\n"
     ]
    }
   ],
   "source": [
    "\n",
    "def fac(n):\n",
    "    return(np.math.factorial(n))\n",
    "\n",
    "print(fac(4))\n",
    "# print result"
   ]
  },
  {
   "cell_type": "markdown",
   "metadata": {},
   "source": [
    "#### 7. Create a 6x3 matrix with row values ranging from 3 to 9 (use numpy)"
   ]
  },
  {
   "cell_type": "code",
   "execution_count": 10,
   "metadata": {},
   "outputs": [
    {
     "name": "stdout",
     "output_type": "stream",
     "text": [
      "[[3 7 6]\n",
      " [6 9 3]\n",
      " [5 3 4]\n",
      " [4 4 9]\n",
      " [9 6 7]\n",
      " [4 8 9]]\n"
     ]
    }
   ],
   "source": [
    "x = np.random.randint(3,10, size = (6,3))\n",
    "print(x)\n",
    "#I am unsure what \" row values ranging from 3 to 9\" means. I assumed I can use np.random.randint to create a 3 by 6 array that randomly has values ranging from 3 to 9. Is that correct? Or does row values ranging from 3 to 9 mean that each row has to be the same number starting from 3 going up to 9? "
   ]
  },
  {
   "cell_type": "markdown",
   "metadata": {},
   "source": [
    "#### 8. Create a random vector of size 50 and sort it (you can use numpy and you are allowed to use any available function)"
   ]
  },
  {
   "cell_type": "code",
   "execution_count": 6,
   "metadata": {},
   "outputs": [
    {
     "name": "stdout",
     "output_type": "stream",
     "text": [
      "[ 1  5 10 11 13 14 15 16 18 18 21 25 25 25 26 30 32 32 38 39 42 45 48 52\n",
      " 53 54 55 56 57 58 59 59 60 64 64 65 65 70 77 81 85 86 86 89 89 90 93 94\n",
      " 95 97]\n"
     ]
    }
   ],
   "source": [
    "# print your result\n",
    "x = np.random.randint(0,100, size = 50)\n",
    "x = np.sort(x)\n",
    "print(x)"
   ]
  },
  {
   "cell_type": "markdown",
   "metadata": {},
   "source": [
    "#### 9. Given two arrays, check if two arrays are the same (use numpy and you can use any available function)\n",
    "\n",
    "sample input: array1 = [1, 2, 5] and array2 = [1, 2, 3]   \n",
    "sample output: false \n",
    "\n",
    "sample input: array1 = ['a', 'd', 'k', 'e'] and array2 = ['a', 'd', 'k', 'e']  \n",
    "sample output: true"
   ]
  },
  {
   "cell_type": "code",
   "execution_count": 8,
   "metadata": {},
   "outputs": [
    {
     "name": "stdout",
     "output_type": "stream",
     "text": [
      "True\n"
     ]
    }
   ],
   "source": [
    "# create two sample arrays\n",
    "sample1 = np.random.random(size=5)\n",
    "sample2 = np.random.random(size=5)\n",
    "\n",
    "sample3 = ['a', 'd', 'k', 'e']\n",
    "sample4 = ['a', 'd', 'k', 'e']\n",
    "\n",
    "# check if they are same (you can even write a function that takes two arrays and retuns true or false)\n",
    "\n",
    "def isSame(arr1, arr2):\n",
    "    if(len(arr2) != len(arr1)):\n",
    "        return(False)\n",
    "    for x in range(len(arr1)):\n",
    "        if arr1[x]!=arr2[x]:\n",
    "            return(False)\n",
    "    return(True)\n",
    "# print your result\n",
    "print(isSame(sample3, sample4))"
   ]
  },
  {
   "cell_type": "markdown",
   "metadata": {},
   "source": [
    "#### 10. Create a vector of size 10 with random integer values, then replace the maximum value by 0 (you can use numpy and you are allowed to use any available function)\n",
    "\n",
    "sample input: [1, 2, 5, 3, 14, 2, 4, 34, 6, 7]\n",
    "\n",
    "sample output: [1, 2, 5, 3, 14, 2, 4, 0, 6, 7]\n"
   ]
  },
  {
   "cell_type": "code",
   "execution_count": 9,
   "metadata": {},
   "outputs": [
    {
     "name": "stdout",
     "output_type": "stream",
     "text": [
      "[92 54 56 22 65 22 52 59 40 91]\n",
      "The array below has the highest value be set to 0\n",
      "[ 0 54 56 22 65 22 52 59 40 91]\n"
     ]
    }
   ],
   "source": [
    "# create vector size 10 with random integers\n",
    "np.random.seed(9)\n",
    "vector = np.random.randint(0,100,10)\n",
    "print(vector)\n",
    "print(\"The array below has the highest value be set to 0\")\n",
    "# replace max with 0\n",
    "vector[np.argmax(vector)] = 0\n",
    "# print your result\n",
    "print(vector)"
   ]
  },
  {
   "cell_type": "markdown",
   "metadata": {},
   "source": [
    "#### 11. Write a function that takes an array and returns the reversed array. (you can use numpy and you are allowed to use any available function)\n",
    "\n",
    "sample input:  [3, 7, -2, 15, 0, 5]  \n",
    "sample output: [5, 0, 15, -2, 7, 3]\n"
   ]
  },
  {
   "cell_type": "code",
   "execution_count": 10,
   "metadata": {},
   "outputs": [
    {
     "name": "stdout",
     "output_type": "stream",
     "text": [
      "[ 5  0 15 -2  7  3]\n"
     ]
    }
   ],
   "source": [
    "# write a function that takes an array and returns the arran in reverse order\n",
    "reverseMe =  [3, 7, -2, 15, 0, 5]\n",
    "\n",
    "\n",
    "def reverse(arr):\n",
    "    return(np.flip(reverseMe))\n",
    "\n",
    "print(reverse(reverseMe))\n"
   ]
  },
  {
   "cell_type": "markdown",
   "metadata": {},
   "source": [
    "#### 12. Write a function that takes an array and a number. This function returns true if the list contains the number false otherwise.\n",
    "\n",
    "sample input:  [3, 7, -2, 15, 0, 5] and -2  \n",
    "sample output: true\n",
    "\n",
    "sample input:  [3, 7, -2, 15, 0, 5] and 1  \n",
    "sample output: false\n"
   ]
  },
  {
   "cell_type": "code",
   "execution_count": 13,
   "metadata": {},
   "outputs": [
    {
     "name": "stdout",
     "output_type": "stream",
     "text": [
      "True\n"
     ]
    }
   ],
   "source": [
    "# write a function that takes an array and a number. return true if the number is in the array false otherwise\n",
    "\n",
    "def contains(arr, target):\n",
    "    for x in arr:\n",
    "        if(x==target):\n",
    "            return(True)\n",
    "    return(False)\n",
    "\n",
    "print(contains([3, 7, -2, 15, 0, 5], -2))\n",
    "\n"
   ]
  },
  {
   "cell_type": "markdown",
   "metadata": {},
   "source": [
    "#### 13. Given a string and create a list with characters which are present at an even index\n",
    "\n",
    "sample input: \"Coding is fun\"  \n",
    "sample output: [C, d, n, , s, f, n]  "
   ]
  },
  {
   "cell_type": "code",
   "execution_count": 14,
   "metadata": {},
   "outputs": [
    {
     "name": "stdout",
     "output_type": "stream",
     "text": [
      "['C', 'd', 'n', ' ', 's', 'f', 'n']\n"
     ]
    }
   ],
   "source": [
    "# create a sample input\n",
    "sampleInput = \"Coding is fun\"\n",
    "# remove even indexed elements\n",
    "def charEvenIndex(str):\n",
    "    returnMe = []\n",
    "    for x in range(len(str)):\n",
    "        if x%2==0:\n",
    "            returnMe.append(str[x])\n",
    "    return(returnMe)\n",
    "# print your result\n",
    "print(charEvenIndex(sampleInput))\n"
   ]
  },
  {
   "cell_type": "markdown",
   "metadata": {},
   "source": [
    "#### 14. Given a list of numbers, print only those numbers which are divisible of 5\n",
    "\n",
    "sample input: [5, 34, 45, 50, 4, 10]  \n",
    "sample output: 5, 45, 50, 10"
   ]
  },
  {
   "cell_type": "code",
   "execution_count": 15,
   "metadata": {},
   "outputs": [
    {
     "name": "stdout",
     "output_type": "stream",
     "text": [
      "5\n",
      "45\n",
      "50\n",
      "10\n"
     ]
    }
   ],
   "source": [
    "# write a function that takes an array\n",
    "def printDivBy5(arr):\n",
    "    for x in arr:\n",
    "        if x%5 == 0:\n",
    "            print(x)\n",
    "# print numbers that are divisible by 5 \n",
    "printDivBy5([5, 34, 45, 50, 4, 10])\n",
    "# do not need t return anything\n"
   ]
  },
  {
   "cell_type": "markdown",
   "metadata": {},
   "source": [
    "#### 15. Given a two list of integers, create a third list such that should contain only odd numbers from the first list and even numbers from the second list\n",
    "\n",
    "sample lists: \n",
    "listOne = [7, 18, 13, 11, 12]   \n",
    "listTwo = [2, 3, 14, 26, 13]\n",
    "\n",
    "sample output: [7, 13, 11, 2, 14, 26]"
   ]
  },
  {
   "cell_type": "code",
   "execution_count": 16,
   "metadata": {},
   "outputs": [
    {
     "name": "stdout",
     "output_type": "stream",
     "text": [
      "[7, 13, 11, 2, 14, 26]\n"
     ]
    }
   ],
   "source": [
    "# print your result\n",
    "def oddAndEven(arr1, arr2):\n",
    "    returnMe = []\n",
    "    \n",
    "    for x in arr1:\n",
    "        if x%2 != 0:\n",
    "            returnMe.append(x)\n",
    "            \n",
    "    for x in arr2:\n",
    "        if x%2 == 0:\n",
    "            returnMe.append(x)\n",
    "    return(returnMe)\n",
    "\n",
    "print(oddAndEven([7, 18, 13, 11, 12], [2, 3, 14, 26, 13]))\n"
   ]
  },
  {
   "cell_type": "markdown",
   "metadata": {},
   "source": [
    "#### 16. Given an array of numbers, find the sum of all elements in the array. (You are not allowed to use special functions.)\n",
    "\n",
    "sample input: [1,3,-2, 7, 1, 10]  \n",
    "sample output: 20"
   ]
  },
  {
   "cell_type": "code",
   "execution_count": 17,
   "metadata": {},
   "outputs": [
    {
     "name": "stdout",
     "output_type": "stream",
     "text": [
      "20\n"
     ]
    }
   ],
   "source": [
    "# you can write a function or directly write the procedure in the cell\n",
    "\n",
    "def sum(arr):\n",
    "    sum = 0\n",
    "    for x in arr:\n",
    "        sum = sum+x\n",
    "    return(sum)\n",
    "# test with different cases\n",
    "sum1 = sum([1,3,-2, 7, 1, 10])\n",
    "sum2 = sum([10,9,8,7,6,5])\n",
    "# print your result\n",
    "print(sum1)"
   ]
  },
  {
   "cell_type": "markdown",
   "metadata": {},
   "source": [
    "#### 17. Write a function that return the largest number and its index from a given array. Assume there is no duplicates the array. (you can use numpy and any functions available)\n",
    "\n",
    "sample input: array = [3, 5, 0, -4, 23, 4]  \n",
    "sample output: (23, 4)"
   ]
  },
  {
   "cell_type": "code",
   "execution_count": 19,
   "metadata": {},
   "outputs": [
    {
     "name": "stdout",
     "output_type": "stream",
     "text": [
      "(23, 4)\n"
     ]
    }
   ],
   "source": [
    "# write a function that takes an array and return max value and its index\n",
    "def maxAndIndex(arr):\n",
    "    maxIndex = 0\n",
    "    for x in range(len(arr)):\n",
    "        if(arr[x]>arr[maxIndex]):\n",
    "            maxIndex = x\n",
    "            \n",
    "    return(arr[maxIndex],maxIndex)\n",
    "# print your result\n",
    "print(maxAndIndex([3, 5, 0, -4, 23, 4]))"
   ]
  },
  {
   "cell_type": "markdown",
   "metadata": {},
   "source": [
    "#### 18. Write a funtion to print a specified list after removing the 1st, 3rd and 5th elements. (assuming that there are more 5 elements in the array)\n",
    "\n",
    "sample input : ['Red', 'Green', 'White', 'Black', 'Pink', 'Yellow', 'Purple']  \n",
    "sample output : ['Red', 'White', 'Pink', 'Purple']"
   ]
  },
  {
   "cell_type": "code",
   "execution_count": 20,
   "metadata": {},
   "outputs": [
    {
     "name": "stdout",
     "output_type": "stream",
     "text": [
      "['Red', 'White', 'Pink', 'Purple']\n"
     ]
    }
   ],
   "source": [
    "# print your result\n",
    "def remove135(arr):\n",
    "    arr.pop(1)\n",
    "    arr.pop(2)\n",
    "    arr.pop(3)\n",
    "    print(arr)\n",
    "    \n",
    "remove135(['Red', 'Green', 'White', 'Black', 'Pink', 'Yellow', 'Purple'])"
   ]
  },
  {
   "cell_type": "markdown",
   "metadata": {},
   "source": [
    "#### 19. Write a function that takes two numpy arrays and merges them into one big array.\n",
    "\n",
    "sample input : [2,1,5,7] and [3,2]  \n",
    "sample output: [2,1,5,7,3,2]\n",
    "\n",
    "sample input : ['Red', 'Green', 'White', 'Black'] and  [ 'Pink', 'Yellow', 'Purple']  \n",
    "sample output: ['Red', 'Green', 'White', 'Black', 'Pink', 'Yellow', 'Purple']"
   ]
  },
  {
   "cell_type": "code",
   "execution_count": 21,
   "metadata": {},
   "outputs": [
    {
     "name": "stdout",
     "output_type": "stream",
     "text": [
      "[2 1 5 7 3 2]\n",
      "['Red' 'Green' 'White' 'Black' 'Pink' 'Yellow' 'Purple']\n"
     ]
    }
   ],
   "source": [
    "# write a function that takes two arrays \n",
    "# merges them into one big array and returns it\n",
    "def mergeArr(arr1, arr2):\n",
    "    return(np.concatenate((arr1, arr2)))\n",
    "# print your result\n",
    "arr1 = np.array([2,1,5,7])\n",
    "arr2 = np.array([3,2])\n",
    "print(mergeArr(arr1,arr2 ))\n",
    "arr1 = np.array(['Red', 'Green', 'White', 'Black'])\n",
    "arr2 = np.array(['Pink', 'Yellow', 'Purple'])\n",
    "print(mergeArr(arr1,arr2 ))"
   ]
  },
  {
   "cell_type": "markdown",
   "metadata": {},
   "source": [
    "#### 20. Given the data of USA state's area, run basic statistics on the data. (data will be provided)\n",
    "1. Load data\n",
    "2. Get necessary part of the data\n",
    "3. Given data has a metric of square miles. Convert them into square kilometers.\n",
    "4. Run basic statistics on the converted data\n",
    "    a. Mean  \n",
    "    b. Maximum  \n",
    "    c. Minimum  \n",
    "    d. Standard deviation  \n",
    "    e. Median  \n",
    "    f. 25th percentile  \n",
    "    g. 75th percentile  \n",
    "5. Plot the data using the histogram plot.\n",
    "\n",
    "Note: state-areas.csv will be provided. "
   ]
  },
  {
   "cell_type": "code",
   "execution_count": 22,
   "metadata": {},
   "outputs": [
    {
     "name": "stdout",
     "output_type": "stream",
     "text": [
      "188790.53846153847\n",
      "1700140\n",
      "176\n",
      "244739.28847672712\n",
      "143422.0\n",
      "89463.5\n",
      "217317.25\n"
     ]
    },
    {
     "data": {
      "text/plain": [
       "Text(0.5, 1.0, 'State Area in KM^2')"
      ]
     },
     "execution_count": 22,
     "metadata": {},
     "output_type": "execute_result"
    },
    {
     "data": {
      "image/png": "[encoded data removed]",
      "text/plain": [
       "<Figure size 432x288 with 1 Axes>"
      ]
     },
     "metadata": {
      "needs_background": "light"
     },
     "output_type": "display_data"
    }
   ],
   "source": [
    "# code\n",
    "data = pd.read_csv('state-areas.csv')\n",
    "area = np.array(data['area (sq. mi)'])\n",
    "#turn everything into km^2 by multiplying mi^2 by 2.59\n",
    "for x in range(len(area)):\n",
    "    area[x] = area[x]*2.59\n",
    "mean = area.mean()\n",
    "print(mean)\n",
    "maximum = area.max()\n",
    "print(maximum)\n",
    "minimum = area.min()\n",
    "print(minimum)\n",
    "std = area.std()\n",
    "print(std)\n",
    "median = np.median(area)\n",
    "print(median)\n",
    "percent25 = np.percentile(area, 25)\n",
    "print(percent25)\n",
    "percent75 = np.percentile(area, 75)\n",
    "print(percent75)\n",
    "\n",
    "%matplotlib inline\n",
    "plt.hist(area)\n",
    "plt.title('State Area in KM^2')\n"
   ]
  },
  {
   "cell_type": "code",
   "execution_count": null,
   "metadata": {},
   "outputs": [],
   "source": []
  }
 ],
 "metadata": {
  "kernelspec": {
   "display_name": "Python 3 (ipykernel)",
   "language": "python",
   "name": "python3"
  },
  "language_info": {
   "codemirror_mode": {
    "name": "ipython",
    "version": 3
   },
   "file_extension": ".py",
   "mimetype": "text/x-python",
   "name": "python",
   "nbconvert_exporter": "python",
   "pygments_lexer": "ipython3",
   "version": "3.9.7"
  }
 },
 "nbformat": 4,
 "nbformat_minor": 2
}
